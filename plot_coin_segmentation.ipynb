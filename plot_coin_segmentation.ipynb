{
 "cells": [
  {
   "cell_type": "code",
   "execution_count": 1,
   "metadata": {
    "collapsed": false,
    "jupyter": {
     "outputs_hidden": false
    }
   },
   "outputs": [],
   "source": [
    "%matplotlib inline"
   ]
  },
  {
   "cell_type": "markdown",
   "metadata": {
    "tags": []
   },
   "source": [
    "\n",
    "# Segmenting the picture of greek coins in regions\n",
    "\n",
    "This example uses `spectral_clustering` on a graph created from\n",
    "voxel-to-voxel difference on an image to break this image into multiple\n",
    "partly-homogeneous regions.\n",
    "\n",
    "This procedure (spectral clustering on an image) is an efficient\n",
    "approximate solution for finding normalized graph cuts.\n",
    "\n",
    "There are two options to assign labels:\n",
    "\n",
    "* with 'kmeans' spectral clustering will cluster samples in the embedding space\n",
    "  using a kmeans algorithm\n",
    "* whereas 'discrete' will iteratively search for the closest partition\n",
    "  space to the embedding space.\n"
   ]
  },
  {
   "cell_type": "code",
   "execution_count": 2,
   "metadata": {
    "tags": []
   },
   "outputs": [],
   "source": [
    "# Author: Gael Varoquaux <gael.varoquaux@normalesup.org>, Brian Cheung\n",
    "# License: BSD 3 clause\n",
    "\n",
    "import time\n",
    "\n",
    "import numpy as np\n",
    "from scipy.ndimage import gaussian_filter as scipy_gaussian_filter\n",
    "\n",
    "import matplotlib.pyplot as plt\n",
    "import skimage\n",
    "from skimage.data import coins\n",
    "from skimage.transform import rescale as skimage_rescale\n",
    "\n",
    "from sklearn.feature_extraction import image\n",
    "\n",
    "from sklearn.cluster import spectral_clustering\n",
    "from sklearn.utils.fixes import parse_version\n",
    "\n",
    "from scipy import sparse as scipy_sparse\n",
    "\n",
    "# these were introduced in skimage-0.14\n",
    "if parse_version(skimage.__version__) >= parse_version(\"0.14\"):\n",
    "    rescale_params = {\"anti_aliasing\": False}\n",
    "else:\n",
    "    rescale_params = {}\n",
    "\n",
    "def create_image_graph(coins, gaussian_filter, rescale, return_as=scipy_sparse.coo_matrix):\n",
    "    # Resize it to 20% of the original size to speed up the processing\n",
    "    # Applying a Gaussian filter for smoothing prior to down-scaling\n",
    "    # reduces aliasing artifacts.\n",
    "    smoothened_coins = gaussian_filter(coins, sigma=2)\n",
    "    # Taking the old array for cucim as we don't need to change cucim to support Array API\n",
    "    # We'll change skimage to support Array API rather.    \n",
    "    # smoothened_coins = smoothened_coins._array if hasattr(smoothened_coins, '_array') else smoothened_coins\n",
    "    rescaled_coins = rescale(smoothened_coins, 0.2, mode=\"reflect\", **rescale_params)\n",
    "\n",
    "    # Convert the image into a graph with the value of the gradient on the\n",
    "    # edges.\n",
    "\n",
    "    graph = image.img_to_graph(rescaled_coins, return_as=return_as)\n",
    "    return rescaled_coins, graph"
   ]
  },
  {
   "cell_type": "markdown",
   "metadata": {},
   "source": [
    "## With NumPy"
   ]
  },
  {
   "cell_type": "code",
   "execution_count": 3,
   "metadata": {},
   "outputs": [
    {
     "name": "stderr",
     "output_type": "stream",
     "text": [
      "/tmp/ipykernel_29912/3403852876.py:1: UserWarning: The numpy.array_api submodule is still experimental. See NEP 47.\n",
      "  import numpy.array_api as npx\n"
     ]
    }
   ],
   "source": [
    "import numpy.array_api as npx"
   ]
  },
  {
   "cell_type": "code",
   "execution_count": 4,
   "metadata": {},
   "outputs": [
    {
     "name": "stdout",
     "output_type": "stream",
     "text": [
      "CPU times: user 1e+03 ns, sys: 2 µs, total: 3 µs\n",
      "Wall time: 4.53 µs\n"
     ]
    },
    {
     "name": "stderr",
     "output_type": "stream",
     "text": [
      "/work/aktech/packages/scikit-image/skimage/transform/_warps.py:189: UserWarning: The numpy.array_api submodule is still experimental. See NEP 47.\n",
      "  import cupy.array_api as cpx\n"
     ]
    },
    {
     "data": {
      "text/plain": [
       "(array([[0.49788643, 0.52164502, 0.50993125, ..., 0.38823529, 0.35625159,\n",
       "         0.10562771],\n",
       "        [0.50185893, 0.52164502, 0.51372549, ..., 0.38431373, 0.35240642,\n",
       "         0.11347084],\n",
       "        [0.50972753, 0.52156863, 0.51372549, ..., 0.38026483, 0.34856124,\n",
       "         0.12521008],\n",
       "        ...,\n",
       "        [0.29419404, 0.26282149, 0.27830405, ..., 0.29816654, 0.22645786,\n",
       "         0.03524319],\n",
       "        [0.29416858, 0.2627451 , 0.27438248, ..., 0.29816654, 0.21077158,\n",
       "         0.03132162],\n",
       "        [0.29027247, 0.25889992, 0.27817673, ..., 0.29816654, 0.20285205,\n",
       "         0.02742552]]),\n",
       " <23331x23331 sparse matrix of type '<class 'numpy.float64'>'\n",
       " \twith 115895 stored elements in COOrdinate format>)"
      ]
     },
     "execution_count": 4,
     "metadata": {},
     "output_type": "execute_result"
    }
   ],
   "source": [
    "%time\n",
    "rescaled_coins1, graph1 = create_image_graph(npx.asarray(coins()), scipy_gaussian_filter, skimage_rescale)\n",
    "rescaled_coins1, graph1"
   ]
  },
  {
   "cell_type": "code",
   "execution_count": 5,
   "metadata": {},
   "outputs": [
    {
     "data": {
      "text/plain": [
       "numpy.ndarray"
      ]
     },
     "execution_count": 5,
     "metadata": {},
     "output_type": "execute_result"
    }
   ],
   "source": [
    "type(rescaled_coins1)"
   ]
  },
  {
   "cell_type": "markdown",
   "metadata": {
    "tags": []
   },
   "source": [
    "## With CuPy"
   ]
  },
  {
   "cell_type": "code",
   "execution_count": 6,
   "metadata": {},
   "outputs": [],
   "source": [
    "from cupyx.scipy.ndimage import gaussian_filter as cupy_gaussian_filter\n",
    "from cupyx.scipy import sparse as cupy_sparse\n",
    "# from cucim.skimage.transform import rescale as cucim_rescale\n",
    "import cupy.array_api as cpx"
   ]
  },
  {
   "cell_type": "code",
   "execution_count": 7,
   "metadata": {},
   "outputs": [
    {
     "name": "stdout",
     "output_type": "stream",
     "text": [
      "CPU times: user 1e+03 ns, sys: 2 µs, total: 3 µs\n",
      "Wall time: 3.58 µs\n"
     ]
    },
    {
     "ename": "AxisError",
     "evalue": "source: axis 0 is out of bounds for array of dimension 0",
     "output_type": "error",
     "traceback": [
      "\u001b[0;31m---------------------------------------------------------------------------\u001b[0m",
      "\u001b[0;31mAxisError\u001b[0m                                 Traceback (most recent call last)",
      "Input \u001b[0;32mIn [7]\u001b[0m, in \u001b[0;36m<module>\u001b[0;34m\u001b[0m\n\u001b[1;32m      3\u001b[0m rescale_function \u001b[38;5;241m=\u001b[39m skimage_rescale\n\u001b[1;32m      5\u001b[0m orig_coins \u001b[38;5;241m=\u001b[39m cpx\u001b[38;5;241m.\u001b[39masarray(coins())\n\u001b[0;32m----> 6\u001b[0m rescaled_coins2, graph2 \u001b[38;5;241m=\u001b[39m \u001b[43mcreate_image_graph\u001b[49m\u001b[43m(\u001b[49m\u001b[43morig_coins\u001b[49m\u001b[43m,\u001b[49m\u001b[43m \u001b[49m\u001b[43mcupy_gaussian_filter\u001b[49m\u001b[43m,\u001b[49m\u001b[43m \u001b[49m\u001b[43mrescale_function\u001b[49m\u001b[43m,\u001b[49m\u001b[43m \u001b[49m\u001b[43mreturn_as\u001b[49m\u001b[38;5;241;43m=\u001b[39;49m\u001b[43mcupy_sparse\u001b[49m\u001b[38;5;241;43m.\u001b[39;49m\u001b[43mcoo_matrix\u001b[49m\u001b[43m)\u001b[49m\n\u001b[1;32m      7\u001b[0m rescaled_coins2, graph2\n",
      "Input \u001b[0;32mIn [2]\u001b[0m, in \u001b[0;36mcreate_image_graph\u001b[0;34m(coins, gaussian_filter, rescale, return_as)\u001b[0m\n\u001b[1;32m     31\u001b[0m smoothened_coins \u001b[38;5;241m=\u001b[39m gaussian_filter(coins, sigma\u001b[38;5;241m=\u001b[39m\u001b[38;5;241m2\u001b[39m)\n\u001b[1;32m     32\u001b[0m \u001b[38;5;66;03m# Taking the old array for cucim as we don't need to change cucim to support Array API\u001b[39;00m\n\u001b[1;32m     33\u001b[0m \u001b[38;5;66;03m# We'll change skimage to support Array API rather.    \u001b[39;00m\n\u001b[1;32m     34\u001b[0m \u001b[38;5;66;03m# smoothened_coins = smoothened_coins._array if hasattr(smoothened_coins, '_array') else smoothened_coins\u001b[39;00m\n\u001b[0;32m---> 35\u001b[0m rescaled_coins \u001b[38;5;241m=\u001b[39m \u001b[43mrescale\u001b[49m\u001b[43m(\u001b[49m\u001b[43msmoothened_coins\u001b[49m\u001b[43m,\u001b[49m\u001b[43m \u001b[49m\u001b[38;5;241;43m0.2\u001b[39;49m\u001b[43m,\u001b[49m\u001b[43m \u001b[49m\u001b[43mmode\u001b[49m\u001b[38;5;241;43m=\u001b[39;49m\u001b[38;5;124;43m\"\u001b[39;49m\u001b[38;5;124;43mreflect\u001b[39;49m\u001b[38;5;124;43m\"\u001b[39;49m\u001b[43m,\u001b[49m\u001b[43m \u001b[49m\u001b[38;5;241;43m*\u001b[39;49m\u001b[38;5;241;43m*\u001b[39;49m\u001b[43mrescale_params\u001b[49m\u001b[43m)\u001b[49m\n\u001b[1;32m     37\u001b[0m \u001b[38;5;66;03m# Convert the image into a graph with the value of the gradient on the\u001b[39;00m\n\u001b[1;32m     38\u001b[0m \u001b[38;5;66;03m# edges.\u001b[39;00m\n\u001b[1;32m     40\u001b[0m graph \u001b[38;5;241m=\u001b[39m image\u001b[38;5;241m.\u001b[39mimg_to_graph(rescaled_coins, return_as\u001b[38;5;241m=\u001b[39mreturn_as)\n",
      "File \u001b[0;32m/work/aktech/packages/scikit-image/skimage/_shared/utils.py:356\u001b[0m, in \u001b[0;36mchannel_as_last_axis.__call__.<locals>.fixed_func\u001b[0;34m(*args, **kwargs)\u001b[0m\n\u001b[1;32m    354\u001b[0m \u001b[38;5;28;01mfor\u001b[39;00m pos, arg \u001b[38;5;129;01min\u001b[39;00m \u001b[38;5;28menumerate\u001b[39m(args):\n\u001b[1;32m    355\u001b[0m     \u001b[38;5;28;01mif\u001b[39;00m pos \u001b[38;5;129;01min\u001b[39;00m \u001b[38;5;28mself\u001b[39m\u001b[38;5;241m.\u001b[39marg_positions:\n\u001b[0;32m--> 356\u001b[0m         new_args\u001b[38;5;241m.\u001b[39mappend(\u001b[43mnp\u001b[49m\u001b[38;5;241;43m.\u001b[39;49m\u001b[43mmoveaxis\u001b[49m\u001b[43m(\u001b[49m\u001b[43marg\u001b[49m\u001b[43m,\u001b[49m\u001b[43m \u001b[49m\u001b[43mchannel_axis\u001b[49m\u001b[43m[\u001b[49m\u001b[38;5;241;43m0\u001b[39;49m\u001b[43m]\u001b[49m\u001b[43m,\u001b[49m\u001b[43m \u001b[49m\u001b[38;5;241;43m-\u001b[39;49m\u001b[38;5;241;43m1\u001b[39;49m\u001b[43m)\u001b[49m)\n\u001b[1;32m    357\u001b[0m     \u001b[38;5;28;01melse\u001b[39;00m:\n\u001b[1;32m    358\u001b[0m         new_args\u001b[38;5;241m.\u001b[39mappend(arg)\n",
      "File \u001b[0;32m<__array_function__ internals>:180\u001b[0m, in \u001b[0;36mmoveaxis\u001b[0;34m(*args, **kwargs)\u001b[0m\n",
      "File \u001b[0;32m/work/aktech/miniconda3/envs/docker-amd/lib/python3.8/site-packages/numpy/core/numeric.py:1460\u001b[0m, in \u001b[0;36mmoveaxis\u001b[0;34m(a, source, destination)\u001b[0m\n\u001b[1;32m   1457\u001b[0m     a \u001b[38;5;241m=\u001b[39m asarray(a)\n\u001b[1;32m   1458\u001b[0m     transpose \u001b[38;5;241m=\u001b[39m a\u001b[38;5;241m.\u001b[39mtranspose\n\u001b[0;32m-> 1460\u001b[0m source \u001b[38;5;241m=\u001b[39m \u001b[43mnormalize_axis_tuple\u001b[49m\u001b[43m(\u001b[49m\u001b[43msource\u001b[49m\u001b[43m,\u001b[49m\u001b[43m \u001b[49m\u001b[43ma\u001b[49m\u001b[38;5;241;43m.\u001b[39;49m\u001b[43mndim\u001b[49m\u001b[43m,\u001b[49m\u001b[43m \u001b[49m\u001b[38;5;124;43m'\u001b[39;49m\u001b[38;5;124;43msource\u001b[39;49m\u001b[38;5;124;43m'\u001b[39;49m\u001b[43m)\u001b[49m\n\u001b[1;32m   1461\u001b[0m destination \u001b[38;5;241m=\u001b[39m normalize_axis_tuple(destination, a\u001b[38;5;241m.\u001b[39mndim, \u001b[38;5;124m'\u001b[39m\u001b[38;5;124mdestination\u001b[39m\u001b[38;5;124m'\u001b[39m)\n\u001b[1;32m   1462\u001b[0m \u001b[38;5;28;01mif\u001b[39;00m \u001b[38;5;28mlen\u001b[39m(source) \u001b[38;5;241m!=\u001b[39m \u001b[38;5;28mlen\u001b[39m(destination):\n",
      "File \u001b[0;32m/work/aktech/miniconda3/envs/docker-amd/lib/python3.8/site-packages/numpy/core/numeric.py:1391\u001b[0m, in \u001b[0;36mnormalize_axis_tuple\u001b[0;34m(axis, ndim, argname, allow_duplicate)\u001b[0m\n\u001b[1;32m   1389\u001b[0m         \u001b[38;5;28;01mpass\u001b[39;00m\n\u001b[1;32m   1390\u001b[0m \u001b[38;5;66;03m# Going via an iterator directly is slower than via list comprehension.\u001b[39;00m\n\u001b[0;32m-> 1391\u001b[0m axis \u001b[38;5;241m=\u001b[39m \u001b[38;5;28mtuple\u001b[39m([normalize_axis_index(ax, ndim, argname) \u001b[38;5;28;01mfor\u001b[39;00m ax \u001b[38;5;129;01min\u001b[39;00m axis])\n\u001b[1;32m   1392\u001b[0m \u001b[38;5;28;01mif\u001b[39;00m \u001b[38;5;129;01mnot\u001b[39;00m allow_duplicate \u001b[38;5;129;01mand\u001b[39;00m \u001b[38;5;28mlen\u001b[39m(\u001b[38;5;28mset\u001b[39m(axis)) \u001b[38;5;241m!=\u001b[39m \u001b[38;5;28mlen\u001b[39m(axis):\n\u001b[1;32m   1393\u001b[0m     \u001b[38;5;28;01mif\u001b[39;00m argname:\n",
      "File \u001b[0;32m/work/aktech/miniconda3/envs/docker-amd/lib/python3.8/site-packages/numpy/core/numeric.py:1391\u001b[0m, in \u001b[0;36m<listcomp>\u001b[0;34m(.0)\u001b[0m\n\u001b[1;32m   1389\u001b[0m         \u001b[38;5;28;01mpass\u001b[39;00m\n\u001b[1;32m   1390\u001b[0m \u001b[38;5;66;03m# Going via an iterator directly is slower than via list comprehension.\u001b[39;00m\n\u001b[0;32m-> 1391\u001b[0m axis \u001b[38;5;241m=\u001b[39m \u001b[38;5;28mtuple\u001b[39m([\u001b[43mnormalize_axis_index\u001b[49m\u001b[43m(\u001b[49m\u001b[43max\u001b[49m\u001b[43m,\u001b[49m\u001b[43m \u001b[49m\u001b[43mndim\u001b[49m\u001b[43m,\u001b[49m\u001b[43m \u001b[49m\u001b[43margname\u001b[49m\u001b[43m)\u001b[49m \u001b[38;5;28;01mfor\u001b[39;00m ax \u001b[38;5;129;01min\u001b[39;00m axis])\n\u001b[1;32m   1392\u001b[0m \u001b[38;5;28;01mif\u001b[39;00m \u001b[38;5;129;01mnot\u001b[39;00m allow_duplicate \u001b[38;5;129;01mand\u001b[39;00m \u001b[38;5;28mlen\u001b[39m(\u001b[38;5;28mset\u001b[39m(axis)) \u001b[38;5;241m!=\u001b[39m \u001b[38;5;28mlen\u001b[39m(axis):\n\u001b[1;32m   1393\u001b[0m     \u001b[38;5;28;01mif\u001b[39;00m argname:\n",
      "\u001b[0;31mAxisError\u001b[0m: source: axis 0 is out of bounds for array of dimension 0"
     ]
    }
   ],
   "source": [
    "%time\n",
    "# rescale_function = cucim_rescale\n",
    "rescale_function = skimage_rescale\n",
    "\n",
    "orig_coins = cpx.asarray(coins())\n",
    "rescaled_coins2, graph2 = create_image_graph(orig_coins, cupy_gaussian_filter, rescale_function, return_as=cupy_sparse.coo_matrix)\n",
    "rescaled_coins2, graph2"
   ]
  },
  {
   "cell_type": "markdown",
   "metadata": {},
   "source": [
    "#### This should return new Array when implementation is complete"
   ]
  },
  {
   "cell_type": "code",
   "execution_count": null,
   "metadata": {},
   "outputs": [],
   "source": [
    "type(rescaled_coins2)"
   ]
  },
  {
   "cell_type": "code",
   "execution_count": null,
   "metadata": {},
   "outputs": [],
   "source": [
    "vars(graph2)"
   ]
  },
  {
   "cell_type": "markdown",
   "metadata": {},
   "source": [
    "## Plots: WIP"
   ]
  },
  {
   "cell_type": "code",
   "execution_count": null,
   "metadata": {},
   "outputs": [],
   "source": [
    "# Take a decreasing function of the gradient: an exponential\n",
    "# The smaller beta is, the more independent the segmentation is of the\n",
    "# actual image. For beta=1, the segmentation is close to a voronoi\n",
    "beta = 10\n",
    "eps = 1e-6\n",
    "\n",
    "def set_graph_data(array, graph):\n",
    "    graph.data = array.exp(-beta * array.asarray(graph.data) / array.std(array.asarray(graph.data))) + eps\n",
    "    graph.row = array.asarray(graph.row)\n",
    "    graph.col = array.asarray(graph.col)\n",
    "    # graph.data = graph.data._array\n",
    "    return graph\n",
    "\n",
    "graph1 = set_graph_data(npx, graph1)\n",
    "graph2 = set_graph_data(cpx, graph2)\n",
    "# Apply spectral clustering (this step goes much faster if you have pyamg\n",
    "# installed)\n",
    "N_REGIONS = 25"
   ]
  },
  {
   "cell_type": "code",
   "execution_count": null,
   "metadata": {},
   "outputs": [],
   "source": [
    "vars(graph2)"
   ]
  },
  {
   "cell_type": "markdown",
   "metadata": {},
   "source": [
    "Visualize the resulting regions\n",
    "\n"
   ]
  },
  {
   "cell_type": "code",
   "execution_count": null,
   "metadata": {
    "collapsed": false,
    "jupyter": {
     "outputs_hidden": false
    }
   },
   "outputs": [],
   "source": [
    "labelling_methods = [\"discretize\"]\n",
    "\n",
    "def plot_(graph, rescaled_coins, xp):\n",
    "    for assign_labels in labelling_methods:\n",
    "        t0 = time.time()\n",
    "        labels = spectral_clustering(\n",
    "            graph, n_clusters=N_REGIONS, assign_labels=assign_labels, random_state=42\n",
    "        )\n",
    "        t1 = time.time()\n",
    "        labels = xp.reshape(labels, rescaled_coins.shape)\n",
    "        plt.figure(figsize=(5, 5))\n",
    "        if xp.__name__ == 'cupy.array_api':\n",
    "            rescaled_coins = rescaled_coins._array.get()\n",
    "            labels = labels._array.get()\n",
    "        plt.imshow(rescaled_coins, cmap=plt.cm.gray)\n",
    "        for l in range(N_REGIONS):\n",
    "            plt.contour(labels == l, colors=[plt.cm.nipy_spectral(l / float(N_REGIONS))])\n",
    "        plt.xticks(())\n",
    "        plt.yticks(())\n",
    "        title = \"Spectral clustering: %s, %.2fs\" % (assign_labels, (t1 - t0))\n",
    "        print(title)\n",
    "        plt.title(title)\n",
    "    plt.show()"
   ]
  },
  {
   "cell_type": "markdown",
   "metadata": {},
   "source": [
    "## Segmentation with NumPy Array"
   ]
  },
  {
   "cell_type": "code",
   "execution_count": null,
   "metadata": {},
   "outputs": [],
   "source": [
    "plot_(graph1, rescaled_coins1, npx)"
   ]
  },
  {
   "cell_type": "markdown",
   "metadata": {},
   "source": [
    "## Segmentation with CuPy Array"
   ]
  },
  {
   "cell_type": "markdown",
   "metadata": {},
   "source": [
    "plot_(graph1, rescaled_coins1)"
   ]
  },
  {
   "cell_type": "code",
   "execution_count": null,
   "metadata": {},
   "outputs": [],
   "source": [
    "plot_(graph2, rescaled_coins2, cpx)"
   ]
  },
  {
   "cell_type": "code",
   "execution_count": null,
   "metadata": {},
   "outputs": [],
   "source": []
  }
 ],
 "metadata": {
  "kernelspec": {
   "display_name": "Python 3 (ipykernel)",
   "language": "python",
   "name": "python3"
  },
  "language_info": {
   "codemirror_mode": {
    "name": "ipython",
    "version": 3
   },
   "file_extension": ".py",
   "mimetype": "text/x-python",
   "name": "python",
   "nbconvert_exporter": "python",
   "pygments_lexer": "ipython3",
   "version": "3.8.12"
  }
 },
 "nbformat": 4,
 "nbformat_minor": 4
}
