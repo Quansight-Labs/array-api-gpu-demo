{
 "cells": [
  {
   "cell_type": "code",
   "execution_count": 1,
   "metadata": {
    "collapsed": false,
    "jupyter": {
     "outputs_hidden": false
    }
   },
   "outputs": [],
   "source": [
    "%matplotlib inline"
   ]
  },
  {
   "cell_type": "markdown",
   "metadata": {},
   "source": [
    "\n",
    "# Segmenting the picture of greek coins in regions\n",
    "\n",
    "This example uses `spectral_clustering` on a graph created from\n",
    "voxel-to-voxel difference on an image to break this image into multiple\n",
    "partly-homogeneous regions.\n",
    "\n",
    "This procedure (spectral clustering on an image) is an efficient\n",
    "approximate solution for finding normalized graph cuts.\n",
    "\n",
    "There are two options to assign labels:\n",
    "\n",
    "* with 'kmeans' spectral clustering will cluster samples in the embedding space\n",
    "  using a kmeans algorithm\n",
    "* whereas 'discrete' will iteratively search for the closest partition\n",
    "  space to the embedding space.\n"
   ]
  },
  {
   "cell_type": "code",
   "execution_count": 2,
   "metadata": {
    "collapsed": false,
    "jupyter": {
     "outputs_hidden": false
    }
   },
   "outputs": [],
   "source": [
    "# Author: Gael Varoquaux <gael.varoquaux@normalesup.org>, Brian Cheung\n",
    "# License: BSD 3 clause\n",
    "\n",
    "import time\n",
    "\n",
    "import numpy as np\n",
    "from scipy.ndimage.filters import gaussian_filter as scipy_gaussian_filter\n",
    "\n",
    "import matplotlib.pyplot as plt\n",
    "import skimage\n",
    "from skimage.data import coins\n",
    "from skimage.transform import rescale as skimage_rescale\n",
    "\n",
    "from sklearn.feature_extraction import image\n",
    "\n",
    "from sklearn.cluster import spectral_clustering\n",
    "from sklearn.utils.fixes import parse_version\n",
    "\n",
    "# these were introduced in skimage-0.14\n",
    "if parse_version(skimage.__version__) >= parse_version(\"0.14\"):\n",
    "    rescale_params = {\"anti_aliasing\": False, \"multichannel\": False}\n",
    "else:\n",
    "    rescale_params = {}\n",
    "\n",
    "def create_image_graph(coins, gaussian_filter, rescale):\n",
    "    # Resize it to 20% of the original size to speed up the processing\n",
    "    # Applying a Gaussian filter for smoothing prior to down-scaling\n",
    "    # reduces aliasing artifacts.\n",
    "    smoothened_coins = gaussian_filter(coins, sigma=2)\n",
    "    rescaled_coins = rescale(smoothened_coins, 0.2, mode=\"reflect\", **rescale_params)\n",
    "\n",
    "    # Convert the image into a graph with the value of the gradient on the\n",
    "    # edges.\n",
    "    # import ipdb; ipdb.set_trace()\n",
    "    graph = image.img_to_graph(rescaled_coins)\n",
    "    return rescaled_coins, graph"
   ]
  },
  {
   "cell_type": "code",
   "execution_count": 3,
   "metadata": {},
   "outputs": [
    {
     "name": "stderr",
     "output_type": "stream",
     "text": [
      "/work/aktech/packages/scikit-learn/sklearn/feature_extraction/image.py:181: UserWarning: The numpy.array_api submodule is still experimental. See NEP 47.\n",
      "  import cupy.array_api as cpx\n"
     ]
    },
    {
     "data": {
      "text/plain": [
       "(array([[0.50959853, 0.52156988, 0.51372549, ..., 0.38033121, 0.34862428,\n",
       "         0.12501764],\n",
       "        [0.50999679, 0.50607522, 0.50626182, ..., 0.36072253, 0.33325318,\n",
       "         0.23390525],\n",
       "        [0.50228222, 0.49412391, 0.49411765, ..., 0.34901961, 0.34117021,\n",
       "         0.31695116],\n",
       "        ...,\n",
       "        [0.29021946, 0.28987464, 0.29019608, ..., 0.27071556, 0.29004329,\n",
       "         0.12816942],\n",
       "        [0.29433598, 0.27850401, 0.28216634, ..., 0.28280045, 0.28535027,\n",
       "         0.07375546],\n",
       "        [0.29419362, 0.26282024, 0.27823976, ..., 0.29816654, 0.2262007 ,\n",
       "         0.0351789 ]]),\n",
       " <4697x4697 sparse matrix of type '<class 'numpy.float64'>'\n",
       " \twith 23209 stored elements in COOrdinate format>)"
      ]
     },
     "execution_count": 3,
     "metadata": {},
     "output_type": "execute_result"
    }
   ],
   "source": [
    "rescaled_coins1, graph1 = create_image_graph(coins(), scipy_gaussian_filter, skimage_rescale)\n",
    "rescaled_coins1, graph1"
   ]
  },
  {
   "cell_type": "code",
   "execution_count": 4,
   "metadata": {},
   "outputs": [
    {
     "data": {
      "text/plain": [
       "(array([[0.50959853, 0.52156988, 0.51372549, ..., 0.38033121, 0.34862428,\n",
       "         0.12501764],\n",
       "        [0.50999679, 0.50607522, 0.50626182, ..., 0.36072253, 0.33325318,\n",
       "         0.23390525],\n",
       "        [0.50228222, 0.49412391, 0.49411765, ..., 0.34901961, 0.34117021,\n",
       "         0.31695116],\n",
       "        ...,\n",
       "        [0.29021946, 0.28987464, 0.29019608, ..., 0.27071556, 0.29004329,\n",
       "         0.12816942],\n",
       "        [0.29433598, 0.27850401, 0.28216634, ..., 0.28280045, 0.28535027,\n",
       "         0.07375546],\n",
       "        [0.29419362, 0.26282024, 0.27823976, ..., 0.29816654, 0.2262007 ,\n",
       "         0.0351789 ]]),\n",
       " <4697x4697 sparse matrix of type '<class 'numpy.float64'>'\n",
       " \twith 23209 stored elements in COOrdinate format>)"
      ]
     },
     "execution_count": 4,
     "metadata": {},
     "output_type": "execute_result"
    }
   ],
   "source": [
    "from cupyx.scipy.ndimage import gaussian_filter as cupy_gaussian_filter\n",
    "from cucim.skimage.transform import rescale as cucim_rescale\n",
    "import cupy.array_api as cpx\n",
    "\n",
    "orig_coins = cpx.asarray(coins())\n",
    "rescaled_coins2, graph2 = create_image_graph(orig_coins, cupy_gaussian_filter, cucim_rescale)\n",
    "rescaled_coins2, graph2"
   ]
  },
  {
   "cell_type": "code",
   "execution_count": 5,
   "metadata": {},
   "outputs": [],
   "source": [
    "import numpy as np"
   ]
  },
  {
   "cell_type": "code",
   "execution_count": 6,
   "metadata": {},
   "outputs": [],
   "source": [
    "# img[edges[0] // (n_y * n_z), (edges[0] % (n_y * n_z)) // n_z, (edges[0] % (n_y * n_z)) % n_z,]\n",
    "# img[edges[1] // (n_y * n_z), (edges[1] % (n_y * n_z)) // n_z, (edges[1] % (n_y * n_z)) % n_z,]\n"
   ]
  },
  {
   "cell_type": "code",
   "execution_count": 7,
   "metadata": {},
   "outputs": [
    {
     "data": {
      "text/plain": [
       "cupy._core.core.ndarray"
      ]
     },
     "execution_count": 7,
     "metadata": {},
     "output_type": "execute_result"
    }
   ],
   "source": [
    "type(rescaled_coins2)"
   ]
  },
  {
   "cell_type": "code",
   "execution_count": null,
   "metadata": {},
   "outputs": [],
   "source": [
    "# Take a decreasing function of the gradient: an exponential\n",
    "# The smaller beta is, the more independent the segmentation is of the\n",
    "# actual image. For beta=1, the segmentation is close to a voronoi\n",
    "beta = 10\n",
    "eps = 1e-6\n",
    "\n",
    "def set_graph_data(graph):\n",
    "    graph.data = np.exp(-beta * graph.data / graph.data.std()) + eps\n",
    "    return graph\n",
    "\n",
    "graph1 = set_graph_data(graph1)\n",
    "graph2 = set_graph_data(graph2)\n",
    "# Apply spectral clustering (this step goes much faster if you have pyamg\n",
    "# installed)\n",
    "N_REGIONS = 25"
   ]
  },
  {
   "cell_type": "markdown",
   "metadata": {},
   "source": [
    "Visualize the resulting regions\n",
    "\n"
   ]
  },
  {
   "cell_type": "code",
   "execution_count": null,
   "metadata": {
    "collapsed": false,
    "jupyter": {
     "outputs_hidden": false
    }
   },
   "outputs": [],
   "source": [
    "def plot_(graph, rescaled_coins):\n",
    "    for assign_labels in (\"kmeans\", \"discretize\"):\n",
    "        t0 = time.time()\n",
    "        labels = spectral_clustering(\n",
    "            graph, n_clusters=N_REGIONS, assign_labels=assign_labels, random_state=42\n",
    "        )\n",
    "        t1 = time.time()\n",
    "        labels = labels.reshape(rescaled_coins.shape)\n",
    "\n",
    "        plt.figure(figsize=(5, 5))\n",
    "        plt.imshow(rescaled_coins, cmap=plt.cm.gray)\n",
    "        for l in range(N_REGIONS):\n",
    "            plt.contour(labels == l, colors=[plt.cm.nipy_spectral(l / float(N_REGIONS))])\n",
    "        plt.xticks(())\n",
    "        plt.yticks(())\n",
    "        title = \"Spectral clustering: %s, %.2fs\" % (assign_labels, (t1 - t0))\n",
    "        print(title)\n",
    "        plt.title(title)\n",
    "    plt.show()"
   ]
  },
  {
   "cell_type": "code",
   "execution_count": null,
   "metadata": {},
   "outputs": [],
   "source": [
    "plot_(graph1, rescaled_coins1)"
   ]
  },
  {
   "cell_type": "code",
   "execution_count": null,
   "metadata": {},
   "outputs": [],
   "source": [
    "from skimage.transform import rescale as skimage_rescale"
   ]
  },
  {
   "cell_type": "code",
   "execution_count": null,
   "metadata": {},
   "outputs": [],
   "source": [
    "plot_(graph2, rescaled_coins2.get())"
   ]
  },
  {
   "cell_type": "code",
   "execution_count": null,
   "metadata": {},
   "outputs": [],
   "source": [
    "import numpy as np"
   ]
  },
  {
   "cell_type": "code",
   "execution_count": null,
   "metadata": {},
   "outputs": [],
   "source": [
    "k = np.arange(10).reshape(5, 2)"
   ]
  },
  {
   "cell_type": "code",
   "execution_count": null,
   "metadata": {},
   "outputs": [],
   "source": [
    "k"
   ]
  },
  {
   "cell_type": "code",
   "execution_count": null,
   "metadata": {},
   "outputs": [],
   "source": [
    "k.ravel()"
   ]
  },
  {
   "cell_type": "code",
   "execution_count": null,
   "metadata": {},
   "outputs": [],
   "source": [
    "k.reshape(-1)"
   ]
  },
  {
   "cell_type": "code",
   "execution_count": null,
   "metadata": {},
   "outputs": [],
   "source": [
    "np.reshape"
   ]
  },
  {
   "cell_type": "code",
   "execution_count": null,
   "metadata": {},
   "outputs": [],
   "source": [
    "import numpy.array_api as npx"
   ]
  },
  {
   "cell_type": "code",
   "execution_count": null,
   "metadata": {},
   "outputs": [],
   "source": [
    "x = npx.asarray(k)\n",
    "x"
   ]
  },
  {
   "cell_type": "code",
   "execution_count": null,
   "metadata": {},
   "outputs": [],
   "source": [
    "npx.reshape(x, -1)"
   ]
  },
  {
   "cell_type": "code",
   "execution_count": null,
   "metadata": {},
   "outputs": [],
   "source": []
  }
 ],
 "metadata": {
  "kernelspec": {
   "display_name": "Python 3 (ipykernel)",
   "language": "python",
   "name": "python3"
  },
  "language_info": {
   "codemirror_mode": {
    "name": "ipython",
    "version": 3
   },
   "file_extension": ".py",
   "mimetype": "text/x-python",
   "name": "python",
   "nbconvert_exporter": "python",
   "pygments_lexer": "ipython3",
   "version": "3.8.12"
  }
 },
 "nbformat": 4,
 "nbformat_minor": 4
}
